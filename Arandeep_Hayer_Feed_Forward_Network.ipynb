{
  "nbformat": 4,
  "nbformat_minor": 0,
  "metadata": {
    "colab": {
      "name": "Arandeep Hayer Feed Forward Network",
      "provenance": [],
      "collapsed_sections": [],
      "include_colab_link": true
    },
    "kernelspec": {
      "name": "python3",
      "display_name": "Python 3"
    },
    "language_info": {
      "name": "python"
    }
  },
  "cells": [
    {
      "cell_type": "markdown",
      "metadata": {
        "id": "view-in-github",
        "colab_type": "text"
      },
      "source": [
        "<a href=\"https://colab.research.google.com/github/ashayer/machine_learning/blob/main/Arandeep_Hayer_Feed_Forward_Network.ipynb\" target=\"_parent\"><img src=\"https://colab.research.google.com/assets/colab-badge.svg\" alt=\"Open In Colab\"/></a>"
      ]
    },
    {
      "cell_type": "markdown",
      "metadata": {
        "id": "9SNwIdqB1ldm"
      },
      "source": [
        "Feed Forward Network with 2 hidden units"
      ]
    },
    {
      "cell_type": "code",
      "metadata": {
        "id": "SmAK-ep0ylt3"
      },
      "source": [
        "import math\n",
        "import itertools\n",
        "import pandas as pd"
      ],
      "execution_count": null,
      "outputs": []
    },
    {
      "cell_type": "code",
      "metadata": {
        "id": "bMM-ajJz6pCI"
      },
      "source": [
        "w1 = (3.19304864, 9.93278091, -4.74659947)\n",
        "w2 = (-1.59451474, 9.97879746, 4.47953684)\n",
        "v1 = (0.32620883, -8.71647388, 8.39004239)\n",
        "testpoints = [(0,0), (0,1), (1,0), (1,1)]"
      ],
      "execution_count": null,
      "outputs": []
    },
    {
      "cell_type": "code",
      "metadata": {
        "id": "kT-cugX3IPWp"
      },
      "source": [
        "def getY(W,points):\n",
        "  return sum([w*x for w,x in zip(W,points)])\n",
        "\n",
        "def sigmoid(x):\n",
        "  return 1/(1+math.exp(-x))"
      ],
      "execution_count": null,
      "outputs": []
    },
    {
      "cell_type": "code",
      "metadata": {
        "colab": {
          "base_uri": "https://localhost:8080/"
        },
        "id": "N1nlyFct7QdZ",
        "outputId": "852ba38b-2e7a-4291-fe2b-7553d5164222"
      },
      "source": [
        "x0 = 1\n",
        "x1 = [x1 for (x1, _) in testpoints]\n",
        "x2 = [x2 for (_, x2) in testpoints]\n",
        "xS = list((zip(itertools.repeat(x0),x1, x2)))\n",
        "\n",
        "\n",
        "XS = {\n",
        "        'x0': list(itertools.repeat(x0, len(x1))),\n",
        "        'x1': x1,\n",
        "        'x2': x2,\n",
        "        'xS': xS\n",
        "       }\n",
        "\n",
        "\n",
        "XSTUFF = pd.DataFrame(XS)\n",
        "\n",
        "print (XSTUFF)"
      ],
      "execution_count": null,
      "outputs": [
        {
          "output_type": "stream",
          "name": "stdout",
          "text": [
            "   x0  x1  x2         xS\n",
            "0   1   0   0  (1, 0, 0)\n",
            "1   1   0   1  (1, 0, 1)\n",
            "2   1   1   0  (1, 1, 0)\n",
            "3   1   1   1  (1, 1, 1)\n"
          ]
        }
      ]
    },
    {
      "cell_type": "code",
      "metadata": {
        "colab": {
          "base_uri": "https://localhost:8080/"
        },
        "id": "iJsibTiC8P08",
        "outputId": "04cb7392-8d1a-481a-d5d7-a513a2d86aca"
      },
      "source": [
        "z0 = 1\n",
        "z1 = [sigmoid(getY(w1, x)) for x in xS]\n",
        "z2 = [sigmoid(getY(w2, x)) for x in xS]\n",
        "zS = list((zip(itertools.repeat(z0),z1, z2)))\n",
        "\n",
        "\n",
        "ZS = {\n",
        "        'Points': testpoints,\n",
        "        'z0': itertools.repeat(z0,len(z1)),\n",
        "        'z1': z1,\n",
        "        'z2': z2\n",
        "       }\n",
        "\n",
        "ZSTUFF = pd.DataFrame(ZS)\n",
        "print (ZSTUFF)"
      ],
      "execution_count": null,
      "outputs": [
        {
          "output_type": "stream",
          "name": "stdout",
          "text": [
            "   Points  z0        z1        z2\n",
            "0  (0, 0)   1  0.960572  0.168750\n",
            "1  (0, 1)   1  0.174574  0.947101\n",
            "2  (1, 0)   1  0.999998  0.999772\n",
            "3  (1, 1)   1  0.999770  0.999997\n"
          ]
        }
      ]
    },
    {
      "cell_type": "code",
      "metadata": {
        "colab": {
          "base_uri": "https://localhost:8080/"
        },
        "id": "fgyw7soC9pMy",
        "outputId": "2237ee2f-c913-4aef-c84a-d1c36f855ea2"
      },
      "source": [
        "y1 = [getY(v1, z) for z in zS]\n",
        "\n",
        "YS = {\n",
        "        'Points': testpoints,\n",
        "        'y1': y1,\n",
        "       }\n",
        "\n",
        "YSTUFF = pd.DataFrame(YS)\n",
        "print (YSTUFF)"
      ],
      "execution_count": null,
      "outputs": [
        {
          "output_type": "stream",
          "name": "stdout",
          "text": [
            "   Points        y1\n",
            "0  (0, 0) -6.630774\n",
            "1  (0, 1)  6.750757\n",
            "2  (1, 0) -0.002121\n",
            "3  (1, 1)  0.001756\n"
          ]
        }
      ]
    }
  ]
}